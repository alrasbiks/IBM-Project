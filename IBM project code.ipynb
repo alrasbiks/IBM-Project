{
 "cells": [
  {
   "cell_type": "code",
   "execution_count": 5,
   "id": "ec6c2b50-d4e2-43a5-9acf-18eefd50e405",
   "metadata": {},
   "outputs": [
    {
     "name": "stdout",
     "output_type": "stream",
     "text": [
      "{'User-Agent': 'python-requests/2.26.0', 'Accept-Encoding': 'gzip, deflate, br', 'Accept': '*/*', 'Connection': 'keep-alive', 'Cookie': '_abck=50FDBF8B5BD5E5DBE47ED70EA981E3B8~-1~YAAQK2UzuPKRZnF/AQAA06J5dQeDjwZApOqh0gnpL5pv0NXMPUwC+p1OdbkFd0lse+wWcuBH4TKZikEECUw9+tJVFnC905MLaGH6KacdgNrkaP00XFqoNVqOEo0LNyoAhBRkjpzOx3SFyDpJXJd1vio1fuxmS6lXDYAOeNeV6oq8wRphzsuC82LPZNyJ7efVQZplUpgKI0Kv5OYiOrieCHZGY4E9PmGmdY0h3QsSMr63tI/fjdVlQX2Mn2Id+q/9CFEXfbPdbUq1RO4TGFgmAVl2pa61g8o/Mt7gnrIZPhuC5M5uS2WqZx9SBZhimCt+TI2L7xtw2WEXUZqVEIlYHsyOVo3yiq3qXfj0QJS17xv2bxu5rJ0=~-1~-1~-1; bm_sz=91B47535C5F7A19B30A0A223F7E81EC9~YAAQK2UzuPORZnF/AQAA1KJ5dQ/PQV/jHdHc4F+iQaqidXHepHpULPk8Wb7sy7omCKPJISL+in90Etzkx7ZYlai4F2U6a6kTkHgWijHBokfX7jPBhEOCA+bZiJ7INtsT5jLJFctnE9Of3wmu5mmfwF8Wss2GZ0NZzptsGc2KM7/9I0i7rcCAN8KPMcc9UMEpIYJMpYYzJ2smerVYM/cpET6WebRdpxBRulaJPsInIWMvAepJCVXAcnsw/i5ac6+wKNwMUWqhtVnGgnSiEItHjTY1qWAcnj8HPV206WJSAo4=~3359300~3223604'}\n"
     ]
    },
    {
     "ename": "UnidentifiedImageError",
     "evalue": "cannot identify image file '/resources/labs/DS0105EN/image.png'",
     "output_type": "error",
     "traceback": [
      "\u001b[0;31m---------------------------------------------------------------------------\u001b[0m",
      "\u001b[0;31mUnidentifiedImageError\u001b[0m                    Traceback (most recent call last)",
      "\u001b[0;32m/tmp/ipykernel_336/2299399280.py\u001b[0m in \u001b[0;36m<module>\u001b[0;34m\u001b[0m\n\u001b[1;32m     23\u001b[0m \u001b[0;32mwith\u001b[0m \u001b[0mopen\u001b[0m\u001b[0;34m(\u001b[0m\u001b[0mpath\u001b[0m\u001b[0;34m,\u001b[0m\u001b[0;34m'wb'\u001b[0m\u001b[0;34m)\u001b[0m \u001b[0;32mas\u001b[0m \u001b[0mf\u001b[0m\u001b[0;34m:\u001b[0m\u001b[0;34m\u001b[0m\u001b[0;34m\u001b[0m\u001b[0m\n\u001b[1;32m     24\u001b[0m     \u001b[0mf\u001b[0m\u001b[0;34m.\u001b[0m\u001b[0mwrite\u001b[0m\u001b[0;34m(\u001b[0m\u001b[0mr\u001b[0m\u001b[0;34m.\u001b[0m\u001b[0mcontent\u001b[0m\u001b[0;34m)\u001b[0m\u001b[0;34m\u001b[0m\u001b[0;34m\u001b[0m\u001b[0m\n\u001b[0;32m---> 25\u001b[0;31m \u001b[0mImage\u001b[0m\u001b[0;34m.\u001b[0m\u001b[0mopen\u001b[0m\u001b[0;34m(\u001b[0m\u001b[0mpath\u001b[0m\u001b[0;34m)\u001b[0m\u001b[0;34m\u001b[0m\u001b[0;34m\u001b[0m\u001b[0m\n\u001b[0m",
      "\u001b[0;32m~/conda/envs/python/lib/python3.7/site-packages/PIL/Image.py\u001b[0m in \u001b[0;36mopen\u001b[0;34m(fp, mode, formats)\u001b[0m\n\u001b[1;32m   2957\u001b[0m         \u001b[0mwarnings\u001b[0m\u001b[0;34m.\u001b[0m\u001b[0mwarn\u001b[0m\u001b[0;34m(\u001b[0m\u001b[0mmessage\u001b[0m\u001b[0;34m)\u001b[0m\u001b[0;34m\u001b[0m\u001b[0;34m\u001b[0m\u001b[0m\n\u001b[1;32m   2958\u001b[0m     raise UnidentifiedImageError(\n\u001b[0;32m-> 2959\u001b[0;31m         \u001b[0;34m\"cannot identify image file %r\"\u001b[0m \u001b[0;34m%\u001b[0m \u001b[0;34m(\u001b[0m\u001b[0mfilename\u001b[0m \u001b[0;32mif\u001b[0m \u001b[0mfilename\u001b[0m \u001b[0;32melse\u001b[0m \u001b[0mfp\u001b[0m\u001b[0;34m)\u001b[0m\u001b[0;34m\u001b[0m\u001b[0;34m\u001b[0m\u001b[0m\n\u001b[0m\u001b[1;32m   2960\u001b[0m     )\n\u001b[1;32m   2961\u001b[0m \u001b[0;34m\u001b[0m\u001b[0m\n",
      "\u001b[0;31mUnidentifiedImageError\u001b[0m: cannot identify image file '/resources/labs/DS0105EN/image.png'"
     ]
    }
   ],
   "source": [
    "import requests\n",
    "import os \n",
    "from PIL import Image\n",
    "from IPython.display import IFrame\n",
    "#GET request //# Use single quotation marks for defining string\n",
    "url='https://www.ibm.com/'  \n",
    "r=requests.get(url)\n",
    "#status of the request\n",
    "r.status_code  \n",
    "#view request headers //r.request.body\n",
    "print(r.request.headers)  \n",
    "#HTTP response header\n",
    "header=r.headers  \n",
    "#obtain the date\n",
    "header['date']  \n",
    "#obtain the type of data\n",
    "header['Content-Type']  \n",
    "r.encoding\n",
    "#view text\n",
    "r.text[0:100]  \n",
    "#write content(image)\n",
    "path=os.path.join(os.getcwd(),'image.png')\n",
    "with open(path,'wb') as f:\n",
    "    f.write(r.content)\n",
    "Image.open(path)"
   ]
  },
  {
   "cell_type": "code",
   "execution_count": 6,
   "id": "1b8ff842-4100-4efa-a13c-1838eeb1b09e",
   "metadata": {},
   "outputs": [
    {
     "data": {
      "text/plain": [
       "{'ID': '123', 'name': 'Joseph'}"
      ]
     },
     "execution_count": 6,
     "metadata": {},
     "output_type": "execute_result"
    }
   ],
   "source": [
    "url_get='http://httpbin.org/get'\n",
    "#To create a Query string, add a dictionary.\n",
    "payload={\"name\":\"Joseph\",\"ID\":\"123\"}  \n",
    "r=requests.get(url_get,params=payload)\n",
    "r.url  #'http://httpbin.org/get?name=Joseph&ID=123'\n",
    "#key args in JSON format\n",
    "r.json()['args']  "
   ]
  },
  {
   "cell_type": "code",
   "execution_count": 7,
   "id": "a4b041b7-07e5-4838-9472-5fad31bed593",
   "metadata": {},
   "outputs": [
    {
     "data": {
      "text/plain": [
       "{'ID': '123', 'name': 'Joseph'}"
      ]
     },
     "execution_count": 7,
     "metadata": {},
     "output_type": "execute_result"
    }
   ],
   "source": [
    "url_post='http://httpbin.org/post'\n",
    "r_post=requests.post(url_post,data=payload)\n",
    "r_post.url \n",
    "r_post.request.body\n",
    "r_post.json()['form']"
   ]
  },
  {
   "cell_type": "code",
   "execution_count": 8,
   "id": "235e2177-9dbb-4443-a1ef-c71cc157848f",
   "metadata": {},
   "outputs": [
    {
     "ename": "ModuleNotFoundError",
     "evalue": "No module named 'bs4'",
     "output_type": "error",
     "traceback": [
      "\u001b[0;31m---------------------------------------------------------------------------\u001b[0m",
      "\u001b[0;31mModuleNotFoundError\u001b[0m                       Traceback (most recent call last)",
      "\u001b[0;32m/tmp/ipykernel_336/1047606901.py\u001b[0m in \u001b[0;36m<module>\u001b[0;34m\u001b[0m\n\u001b[0;32m----> 1\u001b[0;31m \u001b[0;32mfrom\u001b[0m \u001b[0mbs4\u001b[0m \u001b[0;32mimport\u001b[0m \u001b[0mBeautifulSoup\u001b[0m  \u001b[0;31m# this module helps in web scrapping.\u001b[0m\u001b[0;34m\u001b[0m\u001b[0;34m\u001b[0m\u001b[0m\n\u001b[0m\u001b[1;32m      2\u001b[0m \u001b[0;32mimport\u001b[0m \u001b[0mrequests\u001b[0m  \u001b[0;31m# this module helps us to download a web page\u001b[0m\u001b[0;34m\u001b[0m\u001b[0;34m\u001b[0m\u001b[0m\n\u001b[1;32m      3\u001b[0m \u001b[0murl\u001b[0m \u001b[0;34m=\u001b[0m \u001b[0;34m\"http://www.ibm.com\"\u001b[0m\u001b[0;34m\u001b[0m\u001b[0;34m\u001b[0m\u001b[0m\n\u001b[1;32m      4\u001b[0m \u001b[0;31m# get the contents of the webpage in text format and store in a variable called data\u001b[0m\u001b[0;34m\u001b[0m\u001b[0;34m\u001b[0m\u001b[0;34m\u001b[0m\u001b[0m\n\u001b[1;32m      5\u001b[0m \u001b[0mdata\u001b[0m  \u001b[0;34m=\u001b[0m \u001b[0mrequests\u001b[0m\u001b[0;34m.\u001b[0m\u001b[0mget\u001b[0m\u001b[0;34m(\u001b[0m\u001b[0murl\u001b[0m\u001b[0;34m)\u001b[0m\u001b[0;34m.\u001b[0m\u001b[0mtext\u001b[0m\u001b[0;34m\u001b[0m\u001b[0;34m\u001b[0m\u001b[0m\n",
      "\u001b[0;31mModuleNotFoundError\u001b[0m: No module named 'bs4'"
     ]
    }
   ],
   "source": [
    "from bs4 import BeautifulSoup  # this module helps in web scrapping.\n",
    "import requests  # this module helps us to download a web page\n",
    "url = \"http://www.ibm.com\"\n",
    "# get the contents of the webpage in text format and store in a variable called data\n",
    "data  = requests.get(url).text  \n",
    "# create a soup object using the variable 'data'\n",
    "soup = BeautifulSoup(data,\"html5lib\")  \n",
    "# in html anchor/link is represented by the tag <a>\n",
    "for link in soup.find_all('a'):  \n",
    "    print(link.get('href'))\n",
    "# in html image is represented by the tag <img>\n",
    "for link in soup.find_all('img'):\n",
    "    print(link.get('src'))"
   ]
  },
  {
   "cell_type": "code",
   "execution_count": 9,
   "id": "bd4add49-f661-4d14-9452-2fbbb4d6aa30",
   "metadata": {},
   "outputs": [
    {
     "ename": "NameError",
     "evalue": "name 'BeautifulSoup' is not defined",
     "output_type": "error",
     "traceback": [
      "\u001b[0;31m---------------------------------------------------------------------------\u001b[0m",
      "\u001b[0;31mNameError\u001b[0m                                 Traceback (most recent call last)",
      "\u001b[0;32m/tmp/ipykernel_336/3799047111.py\u001b[0m in \u001b[0;36m<module>\u001b[0;34m\u001b[0m\n\u001b[1;32m      2\u001b[0m \u001b[0;31m# get the contents of the webpage in text format and store in a variable called data\u001b[0m\u001b[0;34m\u001b[0m\u001b[0;34m\u001b[0m\u001b[0;34m\u001b[0m\u001b[0m\n\u001b[1;32m      3\u001b[0m \u001b[0mdata\u001b[0m  \u001b[0;34m=\u001b[0m \u001b[0mrequests\u001b[0m\u001b[0;34m.\u001b[0m\u001b[0mget\u001b[0m\u001b[0;34m(\u001b[0m\u001b[0murl\u001b[0m\u001b[0;34m)\u001b[0m\u001b[0;34m.\u001b[0m\u001b[0mtext\u001b[0m\u001b[0;34m\u001b[0m\u001b[0;34m\u001b[0m\u001b[0m\n\u001b[0;32m----> 4\u001b[0;31m \u001b[0msoup\u001b[0m \u001b[0;34m=\u001b[0m \u001b[0mBeautifulSoup\u001b[0m\u001b[0;34m(\u001b[0m\u001b[0mdata\u001b[0m\u001b[0;34m,\u001b[0m\u001b[0;34m\"html5lib\"\u001b[0m\u001b[0;34m)\u001b[0m\u001b[0;34m\u001b[0m\u001b[0;34m\u001b[0m\u001b[0m\n\u001b[0m\u001b[1;32m      5\u001b[0m \u001b[0;31m# in html table is represented by the tag <table>\u001b[0m\u001b[0;34m\u001b[0m\u001b[0;34m\u001b[0m\u001b[0;34m\u001b[0m\u001b[0m\n\u001b[1;32m      6\u001b[0m \u001b[0mtable\u001b[0m \u001b[0;34m=\u001b[0m \u001b[0msoup\u001b[0m\u001b[0;34m.\u001b[0m\u001b[0mfind\u001b[0m\u001b[0;34m(\u001b[0m\u001b[0;34m'table'\u001b[0m\u001b[0;34m)\u001b[0m\u001b[0;34m\u001b[0m\u001b[0;34m\u001b[0m\u001b[0m\n",
      "\u001b[0;31mNameError\u001b[0m: name 'BeautifulSoup' is not defined"
     ]
    }
   ],
   "source": [
    "url = \"https://cf-courses-data.s3.us.cloud-object-storage.appdomain.cloud/IBM-DA0321EN-SkillsNetwork/labs/datasets/HTMLColorCodes.html\"\n",
    "# get the contents of the webpage in text format and store in a variable called data\n",
    "data  = requests.get(url).text  \n",
    "soup = BeautifulSoup(data,\"html5lib\")\n",
    "# in html table is represented by the tag <table>\n",
    "table = soup.find('table') \n",
    "# in html table row is represented by the tag <tr>\n",
    "for row in table.find_all('tr'): \n",
    "    # in html a column is represented by the tag <td>\n",
    "    cols = row.find_all('td') \n",
    "    # store the value in column 3 as color_name\n",
    "    color_name = cols[2].getText() \n",
    "    # store the value in column 4 as color_code\n",
    "    color_code = cols[3].getText() \n",
    "    print(\"{}--->{}\".format(color_name,color_code))"
   ]
  },
  {
   "cell_type": "code",
   "execution_count": 10,
   "id": "c62f7230-d574-4352-b718-bf5011df01af",
   "metadata": {},
   "outputs": [],
   "source": [
    "import pandas as pd\n",
    "dataset_url = \"https://cf-courses-data.s3.us.cloud-object-storage.appdomain.cloud/IBM-DA0321EN-SkillsNetwork/LargeData/m1_survey_data.csv\"\n",
    "df = pd.read_csv(dataset_url)"
   ]
  },
  {
   "cell_type": "code",
   "execution_count": 11,
   "id": "c59fef2a-1394-49c9-83ec-3c6ba9843648",
   "metadata": {},
   "outputs": [
    {
     "data": {
      "text/plain": [
       "135"
      ]
     },
     "execution_count": 11,
     "metadata": {},
     "output_type": "execute_result"
    }
   ],
   "source": [
    "#Display the top & bottom 5 rows and columns from your dataset\n",
    "df.head()  \n",
    "df.tail()\n",
    "#The number of rows in the dataset.\n",
    "df.shape[0]  \n",
    "#The number of columns in the dataset.\n",
    "df.shape[1]  \n",
    "#Print the datatype of all columns.\n",
    "df.dtypes  \n",
    "#Print the mean age of the survey participants.\n",
    "df[\"Age\"].mean()\n",
    "#Print how many unique countries are there in the Country column.\n",
    "df[\"Country\"].nunique()  "
   ]
  },
  {
   "cell_type": "code",
   "execution_count": 12,
   "id": "8305277b-c74b-4d6c-a752-9b7acaacefdc",
   "metadata": {},
   "outputs": [],
   "source": [
    "import pandas as pd\n",
    "df = pd.read_csv(\"https://cf-courses-data.s3.us.cloud-object-storage.appdomain.cloud/IBM-DA0321EN-SkillsNetwork/LargeData/m1_survey_data.csv\")"
   ]
  },
  {
   "cell_type": "code",
   "execution_count": 13,
   "id": "54d678bd-4404-4d97-ab7e-ccebc82fe88f",
   "metadata": {},
   "outputs": [
    {
     "data": {
      "text/plain": [
       "154"
      ]
     },
     "execution_count": 13,
     "metadata": {},
     "output_type": "execute_result"
    }
   ],
   "source": [
    "#Find how many duplicate rows exist in the dataframe.\n",
    "df.duplicated(keep='first').sum()  \n",
    "#Show duplicated rows\n",
    "duplicateRows = df[df.duplicated()]  \n",
    "duplicateRows  \n",
    "#numbers of duplicate values in the column Respondent\n",
    "df[\"Respondent\"].duplicated(keep='first').sum()  "
   ]
  },
  {
   "cell_type": "code",
   "execution_count": 14,
   "id": "5d843745-ca36-454c-aa23-efb5ca82e9db",
   "metadata": {},
   "outputs": [
    {
     "data": {
      "text/plain": [
       "<bound method IndexOpsMixin.nunique of 0            4\n",
       "1            9\n",
       "2           13\n",
       "3           16\n",
       "4           17\n",
       "         ...  \n",
       "11393    25136\n",
       "11394    25137\n",
       "11395    25138\n",
       "11396    25141\n",
       "11397    25142\n",
       "Name: Respondent, Length: 11398, dtype: int64>"
      ]
     },
     "execution_count": 14,
     "metadata": {},
     "output_type": "execute_result"
    }
   ],
   "source": [
    "#Remove the duplicate rows from the dataframe.\n",
    "df.drop_duplicates(ignore_index=True, inplace=True)  \n",
    "#Verify if duplicates were actually dropped.\n",
    "df.duplicated(keep='first').sum()  \n",
    "#number of rows and columns left\n",
    "df.shape  \n",
    "#numbers of unique rows left in the column Respondent\n",
    "df[\"Respondent\"].nunique  "
   ]
  },
  {
   "cell_type": "code",
   "execution_count": 15,
   "id": "6adc76ca-bcca-4178-909c-322ea038f2e9",
   "metadata": {},
   "outputs": [
    {
     "data": {
      "text/plain": [
       "112"
      ]
     },
     "execution_count": 15,
     "metadata": {},
     "output_type": "execute_result"
    }
   ],
   "source": [
    "#Find the missing values for all columns.\n",
    "df.isnull().sum()  \n",
    "#Find out how many rows are missing in the column EdLevel\n",
    "df[\"EdLevel\"].isnull().sum()  "
   ]
  },
  {
   "cell_type": "code",
   "execution_count": 16,
   "id": "15006f10-57d6-42ba-b27e-a2ff763b6102",
   "metadata": {},
   "outputs": [
    {
     "data": {
      "text/plain": [
       "0"
      ]
     },
     "execution_count": 16,
     "metadata": {},
     "output_type": "execute_result"
    }
   ],
   "source": [
    "#Find the value counts for the column WorkLoc.\n",
    "df[\"WorkLoc\"].value_counts()  \n",
    "#Impute (replace) all the empty rows in the column WorkLoc with the value that you have identified as majority.\n",
    "df[\"WorkLoc\"].fillna(value=\"Office\",inplace=True)  \n",
    "#After imputation there should ideally not be any empty rows in the WorkLoc column.\n",
    "df[\"WorkLoc\"].isnull().sum()  "
   ]
  },
  {
   "cell_type": "code",
   "execution_count": 17,
   "id": "4efa1644-ca9a-4763-b817-ce92315fae1a",
   "metadata": {},
   "outputs": [
    {
     "data": {
      "text/plain": [
       "100000.0"
      ]
     },
     "execution_count": 17,
     "metadata": {},
     "output_type": "execute_result"
    },
    {
     "data": {
      "image/png": "[encoded data removed]",
      "text/plain": [
       "<Figure size 1080x288 with 1 Axes>"
      ]
     },
     "metadata": {
      "needs_background": "light"
     },
     "output_type": "display_data"
    }
   ],
   "source": [
    "#List out the various categories in the column 'CompFreq'\n",
    "df[\"CompFreq\"].unique()  \n",
    "#If the CompFreq is Yearly then use the exising value in CompTotal\n",
    "df[\"CompFreq\"].replace(to_replace=\"Yearly\",value=1,inplace=True)  \n",
    "#If the CompFreq is Monthly then multiply the value in CompTotal with 12 (months in an year)\n",
    "df[\"CompFreq\"].replace(to_replace=\"Monthly\",value=12,inplace=True)  \n",
    "#If the CompFreq is Weekly then multiply the value in CompTotal with 52 (weeks in an year)\n",
    "df[\"CompFreq\"].replace(to_replace=\"Weekly\",value=52,inplace=True)  \n",
    "df[\"CompFreq\"].unique()\n",
    "df[\"CompFreq\"].value_counts()\n",
    "#it makes comparison of salaries easy.\n",
    "df['NormalizedAnnualCompensation'] = df[\"CompTotal\"] * df[\"CompFreq\"]  \n",
    "df[\"Respondent\"].nunique()\n",
    "df[\"ConvertedComp\"].describe()\n",
    "df[\"ConvertedComp\"].hist(figsize=(15,4))\n",
    "df['NormalizedAnnualCompensation'].median()"
   ]
  },
  {
   "cell_type": "code",
   "execution_count": null,
   "id": "2bed1bff-834c-4eec-ac84-55c2a95c53e6",
   "metadata": {},
   "outputs": [],
   "source": []
  }
 ],
 "metadata": {
  "kernelspec": {
   "display_name": "Python",
   "language": "python",
   "name": "conda-env-python-py"
  },
  "language_info": {
   "codemirror_mode": {
    "name": "ipython",
    "version": 3
   },
   "file_extension": ".py",
   "mimetype": "text/x-python",
   "name": "python",
   "nbconvert_exporter": "python",
   "pygments_lexer": "ipython3",
   "version": "3.7.12"
  }
 },
 "nbformat": 4,
 "nbformat_minor": 5
}
